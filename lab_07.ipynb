{
 "cells": [
  {
   "cell_type": "code",
   "execution_count": 1,
   "metadata": {
    "id": "KNA6dDwQyG3C",
    "tags": []
   },
   "outputs": [],
   "source": [
    "import numpy as np"
   ]
  },
  {
   "cell_type": "markdown",
   "metadata": {
    "id": "stTaM8qLuJLl"
   },
   "source": [
    "# Автоколл"
   ]
  },
  {
   "cell_type": "markdown",
   "metadata": {
    "id": "nnJeFFityG3L"
   },
   "source": [
    "Задача 1. Рассмотрим структурный продукт типа автоколл на бездивидендные акции с динамикой  $S_t \\sim GBM(\\mu,\\sigma)$, $S(0) = 100$ и волатильностью $25\\%$, безрисковая ставка $0\\%$ и следующей функцией выплаты:\n",
    "\n",
    "\\begin{equation*}\n",
    "%X(\\omega) =\n",
    " \\begin{cases}\n",
    "%   1 &\\text{se $\\omega\\in A$}\\\\\n",
    "%   1250 &\\text{se $\\omega \\in A^c$}\n",
    "    (1 + c),  & \\text{если по истечении первого года } S(1) > S(0),\\\\\n",
    "              & \\text{продукт прекращает свое действие},\\\\\n",
    "    (1 + 2c), & \\text{если через два года } S(2) > S(0),\\\\\n",
    "              & \\text{продукт прекращает свое действие};\\\\\n",
    "    \\max\\left(1 + 3c, \\frac{S(3)}{S(0)}\\right), & \\text{если через три года }\n",
    "                                                S(3) > 0.7 \\times S(0), \\\\\n",
    "                                                & \\text{продукт прекращает свое действие};\\\\\n",
    "    \\frac{S(3)}{S(0)},& \\text{во остальных случаях}.\n",
    "   \\end{cases}\n",
    "\\end{equation*}\n",
    "\n",
    "\n",
    "Применяя моделирование Монте-Карло определите численное значение купона $c$, при котором выплата составит $\\frac{S(3)}{S(0)}$."
   ]
  },
  {
   "cell_type": "code",
   "execution_count": 2,
   "metadata": {
    "colab": {
     "base_uri": "https://localhost:8080/"
    },
    "id": "NBgmDNryyG3M",
    "outputId": "53d8e9b1-7260-4c73-95d9-f3181861a56a",
    "tags": []
   },
   "outputs": [
    {
     "name": "stdout",
     "output_type": "stream",
     "text": [
      "1.0011346834277772\n",
      "CPU times: user 11.9 s, sys: 0 ns, total: 11.9 s\n",
      "Wall time: 11.9 s\n"
     ]
    }
   ],
   "source": [
    "%%time\n",
    "\n",
    "r = 0\n",
    "q = 0\n",
    "mu     = r - q\n",
    "sigma  = 0.25\n",
    "S0     = 100\n",
    "nPaths = 2_000_000\n",
    "\n",
    "\n",
    "simuls = []\n",
    "for _ in range(nPaths):\n",
    "    S1 = S0 * np.exp(mu - 0.5 * sigma**2 + sigma * np.random.normal())\n",
    "    S2 = S1 * np.exp(mu - 0.5 * sigma**2 + sigma * np.random.normal())\n",
    "    S3 = S2 * np.exp(mu - 0.5 * sigma**2 + sigma * np.random.normal())\n",
    "    simuls.append([S1, S2, S3])\n",
    "\n",
    "coupon = 0.0765 # определить программно\n",
    "payoff = []\n",
    "\n",
    "for simul in simuls:\n",
    "    if simul[0]>S0:\n",
    "        payoff.append(1+coupon)\n",
    "    elif simul[1]>S0:\n",
    "        payoff.append(1+2*coupon)\n",
    "    elif simul[2]>0.7*S0:\n",
    "        payoff.append(max(1+3*coupon, simul[2]/S0))\n",
    "    else:\n",
    "        payoff.append(simul[2]/S0)\n",
    "        \n",
    "print(np.mean(payoff))"
   ]
  },
  {
   "cell_type": "code",
   "execution_count": 3,
   "metadata": {
    "tags": []
   },
   "outputs": [
    {
     "name": "stdout",
     "output_type": "stream",
     "text": [
      "Mean S(3)/S(0) ~  0.9999895971503453\n",
      "Iteration =  1 , coupon =  0.0532751399103117  mse_loss =  0.008586210630805573\n",
      "Iteration =  2 , coupon =  0.07092499900852464  mse_loss =  0.000797845516294174\n",
      "Iteration =  3 , coupon =  0.07468422463647288  mse_loss =  3.5508828078325446e-05\n",
      "Iteration =  4 , coupon =  0.0754036013367453  mse_loss =  1.3726393794718916e-06\n",
      "Iteration =  5 , coupon =  0.07553847341548588  mse_loss =  6.457707316982599e-08\n",
      "Iteration =  6 , coupon =  0.07556366123834055  mse_loss =  6.733074369042034e-09\n",
      "Numerically calculated coupon =  0.07556366123834055\n",
      "CPU times: user 11.2 s, sys: 228 ms, total: 11.5 s\n",
      "Wall time: 11.5 s\n"
     ]
    }
   ],
   "source": [
    "%%time\n",
    "np_simuls = np.asarray(simuls)\n",
    "np_simuls_mean = np_simuls.mean(axis=0)\n",
    "print('Mean S(3)/S(0) ~ ', np_simuls_mean[2]/S0)\n",
    "\n",
    "def coupon_dependent_payoff(coupon):   \n",
    "    payoff = []\n",
    "    for simul in simuls:\n",
    "        if simul[0] > S0:\n",
    "            payoff.append(1 + coupon)\n",
    "        elif simul[1] > S0:\n",
    "            payoff.append(1 + 2 * coupon)\n",
    "        elif simul[2] > 0.7 * S0:\n",
    "            payoff.append(max(1 + 3 * coupon, simul[2] / S0))\n",
    "        else:\n",
    "            payoff.append(simul[2]/S0)\n",
    "    return np.mean(payoff)\n",
    "\n",
    "def calc_derivative(func, x, dx=1e-2):\n",
    "    return (func(x + dx) - func(x - dx)) / 2 / dx\n",
    "\n",
    "def mse_loss(coupon):\n",
    "    return (coupon_dependent_payoff(coupon) - np_simuls_mean[2]/S0)**2\n",
    "\n",
    "coupon = 0\n",
    "alpha = 0.25\n",
    "i = 0\n",
    "mse_loss_v = 1\n",
    "while mse_loss_v > 1e-8:\n",
    "    mse_loss_v = mse_loss(coupon)\n",
    "    i += 1\n",
    "    deriv = calc_derivative(mse_loss, coupon)\n",
    "    coupon -= alpha * deriv\n",
    "    # if i % 5 == 0:\n",
    "    print('Iteration = ', i, ', coupon = ', coupon, ' mse_loss = ', mse_loss_v)\n",
    "print('Numerically calculated coupon = ', coupon)"
   ]
  },
  {
   "cell_type": "markdown",
   "metadata": {
    "id": "Dt9KI7FV2Pdx"
   },
   "source": [
    "Определите значения |купона| барьера таким образом, чтобы продукт был исполнен в\n",
    "\n",
    "а) первый год,\n",
    "\n",
    "б) второй год,\n",
    "\n",
    "в) третий год.\n",
    "\n",
    "Приведите графики функций выплат по продукту для всех вариантов.\n",
    "\n",
    "Сравните функции выплат структурного продукта типа автоколл с ванильным опционом. Приведите иллюстративный график и сделайте выводы.\n"
   ]
  },
  {
   "cell_type": "code",
   "execution_count": 4,
   "metadata": {},
   "outputs": [
    {
     "name": "stdout",
     "output_type": "stream",
     "text": [
      "Barrier level to execute the coupon in the 1st year =  146.2720162414049\n",
      "CPU times: user 1.14 s, sys: 93 ms, total: 1.24 s\n",
      "Wall time: 1.22 s\n"
     ]
    }
   ],
   "source": [
    "%%time\n",
    "np_simuls = np.asarray(simuls)\n",
    "\n",
    "barrier_95q = np.quantile(np_simuls[:,0], q=0.95)\n",
    "print('Barrier level to execute the coupon in the 1st year = ', barrier_95q)\n",
    "\n",
    "nPaths = 100_000\n",
    "\n",
    "\n",
    "simuls = []\n",
    "for _ in range(nPaths):\n",
    "    S1 = S0 * np.exp(mu - 0.5 * sigma**2 + sigma * np.random.normal())\n",
    "    S2 = S1 * np.exp(mu - 0.5 * sigma**2 + sigma * np.random.normal())\n",
    "    S3 = S2 * np.exp(mu - 0.5 * sigma**2 + sigma * np.random.normal())\n",
    "    simuls.append([S1, S2, S3])\n",
    "\n",
    "b1, b2, b3 = 0, 0, 0\n",
    "for simul in simuls:\n",
    "    if simul[0]>S0:\n",
    "        b1 += 1\n",
    "    elif simul[1]>S0:\n",
    "        b2 += 1\n",
    "    elif simul[2]>0.7*S0:\n",
    "        b3 += 1\n",
    "    else:\n",
    "        payoff.append(simul[2]/S0)"
   ]
  },
  {
   "cell_type": "code",
   "execution_count": 5,
   "metadata": {
    "tags": []
   },
   "outputs": [],
   "source": [
    "b = 100"
   ]
  },
  {
   "cell_type": "code",
   "execution_count": 6,
   "metadata": {
    "tags": []
   },
   "outputs": [],
   "source": [
    "nPaths = 100_000\n",
    "simuls = []\n",
    "for _ in range(nPaths):\n",
    "    S1 = S0 * np.exp(mu - 0.5 * sigma**2 + sigma * np.random.normal())\n",
    "    S2 = S1 * np.exp(mu - 0.5 * sigma**2 + sigma * np.random.normal())\n",
    "    S3 = S2 * np.exp(mu - 0.5 * sigma**2 + sigma * np.random.normal())\n",
    "    simuls.append([S1, S2, S3])\n",
    "\n",
    "b1, b2, b3 = 0, 0, 0\n",
    "for simul in simuls:\n",
    "    if simul[0] > b:\n",
    "        b1 += 1\n",
    "    elif simul[1] > b:\n",
    "        b2 += 1\n",
    "    elif simul[2] > 0.7 * b:\n",
    "        b3 += 1\n",
    "    else:\n",
    "        pass"
   ]
  },
  {
   "cell_type": "markdown",
   "metadata": {
    "id": "Je6vBby8pxXp"
   },
   "source": [
    "Задача 2. Предположим, что динамика базового актива описывается геометрическим броуновским движением $S_t \\sim GBM(\\mu,\\sigma)$.\n",
    "\n",
    "а) Вычислите аналитически вероятность срабатывания автоотзыва $\\mathbb{P}(\\tau = t_k)=p_k$ для продукта с характеристиками $S(0)=1$, $\\mu=5\\%$, $\\sigma=25\\%$,\n",
    "$t_k=\\frac{6+(k-1)}{12}$, $k=1,2, \\ldots, 6$.\n",
    "\n",
    "б) Вычислите вероятность того, что продукт достигнет «конца» своего срока действия:\n",
    "\n",
    "$(1 − 𝑝_1)(1 − 𝑝_2)(1 − 𝑝_3) … (1 − 𝑝_{𝑛−1})$,\n",
    "\n",
    "где $𝑝_k$ -- вероятность досрочного погашения в дату проверки условий $𝑡_k$.\n",
    "\n",
    "Выполните Монте-Карло моделирование и сравните результаты.\n",
    "\n",
    "Ожидаемое решение для пункта (а): $[45.45, 6.29, 4.1,3.07, 2.43, 1.99]$.\n",
    "\n",
    "в) Постройте график зависимости вероятности срабатывания автоотзыва от времени.\n",
    "\n",
    "г) Оцените приведенную стоимость структурного продукта, NVP."
   ]
  },
  {
   "cell_type": "code",
   "execution_count": 398,
   "metadata": {
    "tags": []
   },
   "outputs": [],
   "source": [
    "import scipy, copy\n",
    "# analytical solution\n",
    "# using analytical formula\n",
    "\n",
    "# probability of execution\n",
    "def execution_proba(S0, b, mu, sigma, timeline):\n",
    "    # build covariate matrix\n",
    "    cov_matrix = np.eye(len(timeline))\n",
    "    for i, t1 in enumerate(timeline):\n",
    "        for j, t2 in enumerate(timeline):\n",
    "            if i != j:\n",
    "                cov_matrix[i, j] = min(t1, t2)\n",
    "                cov_matrix[j, i] = cov_matrix[i, j]\n",
    "    L = [np.zeros_like(timeline) for _ in range(len(timeline))]\n",
    "    U = [np.zeros_like(timeline) for _ in range(len(timeline))]\n",
    "    values = np.asarray([(np.log(b / S0) - (mu - sigma**2 / 2) * t) / sigma for t in timeline])\n",
    "    for i, t in enumerate(timeline):\n",
    "        L[i] = [-10**10 if k < i else values[k] for k in range(len(timeline))]\n",
    "        U[i] = [values[k] if k < i else 10**10 for k in range(len(timeline))]\n",
    "    probs = [\n",
    "        scipy.stats.multivariate_normal.cdf(x=U[i-1][:i], mean=np.zeros(len(timeline))[:i], cov=cov_matrix[:i,:i]) -\\\n",
    "            scipy.stats.multivariate_normal.cdf(x=L[i-1][:i], mean=np.zeros(len(timeline))[:i], cov=cov_matrix[:i, :i]) \n",
    "        for i in range(1, len(timeline)+1)]\n",
    "    return np.asarray(probs)"
   ]
  },
  {
   "cell_type": "code",
   "execution_count": 400,
   "metadata": {
    "tags": []
   },
   "outputs": [
    {
     "name": "stdout",
     "output_type": "stream",
     "text": [
      "Probs =  [51.5 48.5 31.7 24.3 20.6 18.7] %\n"
     ]
    }
   ],
   "source": [
    "# task 1\n",
    "# a) \n",
    "S0 = 1\n",
    "mu = 0.05\n",
    "sigma = 0.25\n",
    "timeline = np.linspace(1/2, 1, 6)\n",
    "probs = execution_proba(S0=1, b=1, mu=0.05, sigma=0.25, timeline=timeline)\n",
    "print('Probs = ', np.round(probs,3)*100, '%')"
   ]
  },
  {
   "cell_type": "code",
   "execution_count": 401,
   "metadata": {
    "tags": []
   },
   "outputs": [
    {
     "name": "stdout",
     "output_type": "stream",
     "text": [
      "Probability that the product will survive till the end =  8.3 %\n"
     ]
    }
   ],
   "source": [
    "# task 1 ; b)\n",
    "P = np.prod(1-probs)\n",
    "print('Probability that the product will survive till the end = ', round(P, 3)*100,'%')"
   ]
  },
  {
   "cell_type": "code",
   "execution_count": 402,
   "metadata": {
    "tags": []
   },
   "outputs": [
    {
     "data": {
      "text/plain": [
       "Text(0, 0.5, 'Probability of autocall, %')"
      ]
     },
     "execution_count": 402,
     "metadata": {},
     "output_type": "execute_result"
    },
    {
     "data": {
      "image/png": "[encoded data removed]",
      "text/plain": [
       "<Figure size 2000x500 with 1 Axes>"
      ]
     },
     "metadata": {},
     "output_type": "display_data"
    }
   ],
   "source": [
    "# task 1 ; c) plot\n",
    "import matplotlib.pyplot as plt\n",
    "\n",
    "plt.figure(figsize=(20,5))\n",
    "plt.title('Dependency of probability of autocall to time')\n",
    "plt.plot(timeline, probs*100)\n",
    "plt.grid()\n",
    "plt.xlabel('Timeline, T (years)')\n",
    "plt.ylabel('Probability of autocall, %')"
   ]
  },
  {
   "cell_type": "code",
   "execution_count": 403,
   "metadata": {
    "tags": []
   },
   "outputs": [
    {
     "name": "stdout",
     "output_type": "stream",
     "text": [
      "NVP for the structured product =  0.975\n"
     ]
    }
   ],
   "source": [
    "# task 1: d) NVP\n",
    "\n",
    "r = 0\n",
    "q = 0\n",
    "mu     = 0.05\n",
    "sigma  = 0.25\n",
    "S0     = 100\n",
    "nPaths = 100_000\n",
    "\n",
    "simuls = []\n",
    "for _ in range(nPaths):\n",
    "    S1 = S0 * np.exp(mu - 0.5 * sigma**2 + sigma * np.random.normal())\n",
    "    S2 = S1 * np.exp(mu - 0.5 * sigma**2 + sigma * np.random.normal())\n",
    "    S3 = S2 * np.exp(mu - 0.5 * sigma**2 + sigma * np.random.normal())\n",
    "    simuls.append([S1, S2, S3])\n",
    "\n",
    "coupon = 0.0765\n",
    "payoff = []\n",
    "\n",
    "for simul in simuls:\n",
    "    if simul[0]>S0:\n",
    "        payoff.append( (1 + coupon) / (1 + mu) ** 1 ) # discount the payoff\n",
    "    elif simul[1]>S0:\n",
    "        payoff.append( (1 + 2 * coupon) / (1 + mu) ** 2 ) # discount the payoff\n",
    "    elif simul[2]>0.7*S0:\n",
    "        payoff.append( max(1 + 3 * coupon, simul[2] / S0) /  (1 + mu) ** 3) # discount the payoff\n",
    "    else:\n",
    "        payoff.append(simul[2]/S0)\n",
    "        \n",
    "print('NVP for the structured product = ', round(np.mean(payoff), 3))"
   ]
  },
  {
   "cell_type": "code",
   "execution_count": null,
   "metadata": {},
   "outputs": [],
   "source": []
  }
 ],
 "metadata": {
  "colab": {
   "provenance": []
  },
  "kernelspec": {
   "display_name": "Python 3 (ipykernel)",
   "language": "python",
   "name": "python3"
  },
  "language_info": {
   "codemirror_mode": {
    "name": "ipython",
    "version": 3
   },
   "file_extension": ".py",
   "mimetype": "text/x-python",
   "name": "python",
   "nbconvert_exporter": "python",
   "pygments_lexer": "ipython3",
   "version": "3.11.5"
  }
 },
 "nbformat": 4,
 "nbformat_minor": 4
}
