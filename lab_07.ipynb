{
 "cells": [
  {
   "cell_type": "code",
   "execution_count": 1,
   "metadata": {
    "id": "KNA6dDwQyG3C",
    "tags": []
   },
   "outputs": [],
   "source": [
    "import numpy as np"
   ]
  },
  {
   "cell_type": "markdown",
   "metadata": {
    "id": "stTaM8qLuJLl"
   },
   "source": [
    "# Автоколл"
   ]
  },
  {
   "cell_type": "markdown",
   "metadata": {
    "id": "nnJeFFityG3L"
   },
   "source": [
    "Задача 1. Рассмотрим структурный продукт типа автоколл на бездивидендные акции с динамикой  $S_t \\sim GBM(\\mu,\\sigma)$, $S(0) = 100$ и волатильностью $25\\%$, безрисковая ставка $0\\%$ и следующей функцией выплаты:\n",
    "\n",
    "\\begin{equation*}\n",
    "%X(\\omega) =\n",
    " \\begin{cases}\n",
    "%   1 &\\text{se $\\omega\\in A$}\\\\\n",
    "%   1250 &\\text{se $\\omega \\in A^c$}\n",
    "    (1 + c),  & \\text{если по истечении первого года } S(1) > S(0),\\\\\n",
    "              & \\text{продукт прекращает свое действие},\\\\\n",
    "    (1 + 2c), & \\text{если через два года } S(2) > S(0),\\\\\n",
    "              & \\text{продукт прекращает свое действие};\\\\\n",
    "    \\max\\left(1 + 3c, \\frac{S(3)}{S(0)}\\right), & \\text{если через три года }\n",
    "                                                S(3) > 0.7 \\times S(0), \\\\\n",
    "                                                & \\text{продукт прекращает свое действие};\\\\\n",
    "    \\frac{S(3)}{S(0)},& \\text{во остальных случаях}.\n",
    "   \\end{cases}\n",
    "\\end{equation*}\n",
    "\n",
    "\n",
    "Применяя моделирование Монте-Карло определите численное значение купона $c$, при котором выплата составит $\\frac{S(3)}{S(0)}$."
   ]
  },
  {
   "cell_type": "code",
   "execution_count": 2,
   "metadata": {
    "colab": {
     "base_uri": "https://localhost:8080/"
    },
    "id": "NBgmDNryyG3M",
    "outputId": "53d8e9b1-7260-4c73-95d9-f3181861a56a",
    "tags": []
   },
   "outputs": [
    {
     "name": "stdout",
     "output_type": "stream",
     "text": [
      "1.000819009712145\n",
      "CPU times: user 15.5 s, sys: 239 ms, total: 15.7 s\n",
      "Wall time: 15.7 s\n"
     ]
    }
   ],
   "source": [
    "%%time\n",
    "\n",
    "r = 0\n",
    "q = 0\n",
    "mu     = r - q\n",
    "sigma  = 0.25\n",
    "S0     = 100\n",
    "nPaths = 2_000_000\n",
    "\n",
    "\n",
    "simuls = []\n",
    "for _ in range(nPaths):\n",
    "    S1 = S0 * np.exp(mu - 0.5 * sigma**2 + sigma * np.random.normal())\n",
    "    S2 = S1 * np.exp(mu - 0.5 * sigma**2 + sigma * np.random.normal())\n",
    "    S3 = S2 * np.exp(mu - 0.5 * sigma**2 + sigma * np.random.normal())\n",
    "    simuls.append([S1, S2, S3])\n",
    "\n",
    "coupon = 0.0765 # определить программно\n",
    "payoff = []\n",
    "\n",
    "for simul in simuls:\n",
    "    if simul[0]>S0:\n",
    "        payoff.append(1+coupon)\n",
    "    elif simul[1]>S0:\n",
    "        payoff.append(1+2*coupon)\n",
    "    elif simul[2]>0.7*S0:\n",
    "        payoff.append(max(1+3*coupon, simul[2]/S0))\n",
    "    else:\n",
    "        payoff.append(simul[2]/S0)\n",
    "        \n",
    "print(np.mean(payoff))"
   ]
  },
  {
   "cell_type": "code",
   "execution_count": 168,
   "metadata": {
    "tags": []
   },
   "outputs": [
    {
     "name": "stdout",
     "output_type": "stream",
     "text": [
      "Mean S(3)/S(0) ~  0.9994269035382068\n",
      "Iteration =  1 , coupon =  0.05311276633328917  mse_loss =  0.008547935781005015\n",
      "Iteration =  2 , coupon =  0.07078383014223595  mse_loss =  0.000801386057443831\n",
      "Iteration =  3 , coupon =  0.07457549648936236  mse_loss =  3.618968282678929e-05\n",
      "Iteration =  4 , coupon =  0.07530702497977455  mse_loss =  1.419757421015917e-06\n",
      "Iteration =  5 , coupon =  0.07544534242259043  mse_loss =  6.724165315778523e-08\n",
      "Iteration =  6 , coupon =  0.07547139741793459  mse_loss =  6.8883946167220155e-09\n",
      "Numerically calculated coupon =  0.07547139741793459\n",
      "CPU times: user 11.5 s, sys: 531 ms, total: 12 s\n",
      "Wall time: 12 s\n"
     ]
    }
   ],
   "source": [
    "%%time\n",
    "np_simuls = np.asarray(simuls)\n",
    "np_simuls_mean = np_simuls.mean(axis=0)\n",
    "print('Mean S(3)/S(0) ~ ', np_simuls_mean[2]/S0)\n",
    "\n",
    "def coupon_dependent_payoff(coupon):   \n",
    "    payoff = []\n",
    "    for simul in simuls:\n",
    "        if simul[0] > S0:\n",
    "            payoff.append(1 + coupon)\n",
    "        elif simul[1] > S0:\n",
    "            payoff.append(1 + 2 * coupon)\n",
    "        elif simul[2] > 0.7 * S0:\n",
    "            payoff.append(max(1 + 3 * coupon, simul[2] / S0))\n",
    "        else:\n",
    "            payoff.append(simul[2]/S0)\n",
    "    return np.mean(payoff)\n",
    "\n",
    "def calc_derivative(func, x, dx=1e-2):\n",
    "    return (func(x + dx) - func(x - dx)) / 2 / dx\n",
    "\n",
    "def mse_loss(coupon):\n",
    "    return (coupon_dependent_payoff(coupon) - np_simuls_mean[2]/S0)**2\n",
    "\n",
    "coupon = 0\n",
    "alpha = 0.25\n",
    "i = 0\n",
    "mse_loss_v = 1\n",
    "while mse_loss_v > 1e-8:\n",
    "    mse_loss_v = mse_loss(coupon)\n",
    "    i += 1\n",
    "    deriv = calc_derivative(mse_loss, coupon)\n",
    "    coupon -= alpha * deriv\n",
    "    # if i % 5 == 0:\n",
    "    print('Iteration = ', i, ', coupon = ', coupon, ' mse_loss = ', mse_loss_v)\n",
    "print('Numerically calculated coupon = ', coupon)"
   ]
  },
  {
   "cell_type": "markdown",
   "metadata": {
    "id": "Dt9KI7FV2Pdx"
   },
   "source": [
    "Определите значения |купона| барьера таким образом, чтобы продукт был исполнен в\n",
    "\n",
    "а) первый год,\n",
    "\n",
    "б) второй год,\n",
    "\n",
    "в) третий год.\n",
    "\n",
    "Приведите графики функций выплат по продукту для всех вариантов.\n",
    "\n",
    "Сравните функции выплат структурного продукта типа автоколл с ванильным опционом. Приведите иллюстративный график и сделайте выводы.\n"
   ]
  },
  {
   "cell_type": "code",
   "execution_count": 4,
   "metadata": {},
   "outputs": [
    {
     "name": "stdout",
     "output_type": "stream",
     "text": [
      "CPU times: user 668 ms, sys: 75.2 ms, total: 743 ms\n",
      "Wall time: 753 ms\n"
     ]
    }
   ],
   "source": [
    "%%time\n",
    "np_simuls = np.asarray(simuls)\n",
    "\n",
    "barrier_95q = np.quantile(np_simuls[:,0], q=0.95)\n",
    "print('Barrier level to execute the coupon in the 1st year = ', barrier_95q)\n",
    "\n",
    "nPaths = 100_000\n",
    "\n",
    "\n",
    "simuls = []\n",
    "for _ in range(nPaths):\n",
    "    S1 = S0 * np.exp(mu - 0.5 * sigma**2 + sigma * np.random.normal())\n",
    "    S2 = S1 * np.exp(mu - 0.5 * sigma**2 + sigma * np.random.normal())\n",
    "    S3 = S2 * np.exp(mu - 0.5 * sigma**2 + sigma * np.random.normal())\n",
    "    simuls.append([S1, S2, S3])\n",
    "\n",
    "b1, b2, b3 = 0, 0, 0\n",
    "for simul in simuls:\n",
    "    if simul[0]>S0:\n",
    "        b1 += 1\n",
    "    elif simul[1]>S0:\n",
    "        b2 += 1\n",
    "    elif simul[2]>0.7*S0:\n",
    "        b3 += 1\n",
    "    else:\n",
    "        payoff.append(simul[2]/S0)"
   ]
  },
  {
   "cell_type": "code",
   "execution_count": 7,
   "metadata": {
    "tags": []
   },
   "outputs": [],
   "source": [
    "b = 100"
   ]
  },
  {
   "cell_type": "code",
   "execution_count": 8,
   "metadata": {
    "tags": []
   },
   "outputs": [],
   "source": [
    "nPaths = 100_000\n",
    "simuls = []\n",
    "for _ in range(nPaths):\n",
    "    S1 = S0 * np.exp(mu - 0.5 * sigma**2 + sigma * np.random.normal())\n",
    "    S2 = S1 * np.exp(mu - 0.5 * sigma**2 + sigma * np.random.normal())\n",
    "    S3 = S2 * np.exp(mu - 0.5 * sigma**2 + sigma * np.random.normal())\n",
    "    simuls.append([S1, S2, S3])\n",
    "\n",
    "b1, b2, b3 = 0, 0, 0\n",
    "for simul in simuls:\n",
    "    if simul[0] > b:\n",
    "        b1 += 1\n",
    "    elif simul[1] > b:\n",
    "        b2 += 1\n",
    "    elif simul[2] > 0.7 * b:\n",
    "        b3 += 1\n",
    "    else:\n",
    "        pass"
   ]
  },
  {
   "cell_type": "markdown",
   "metadata": {
    "id": "Je6vBby8pxXp"
   },
   "source": [
    "Задача 2. Предположим, что динамика базового актива описывается геометрическим броуновским движением $S_t \\sim GBM(\\mu,\\sigma)$.\n",
    "\n",
    "а) Вычислите аналитически вероятность срабатывания автоотзыва $\\mathbb{P}(\\tau = t_k)=p_k$ для продукта с характеристиками $S(0)=1$, $\\mu=5\\%$, $\\sigma=25\\%$,\n",
    "$t_k=\\frac{6+(k-1)}{12}$, $k=1,2, \\ldots, 6$.\n",
    "\n",
    "б) Вычислите вероятность того, что продукт достигнет «конца» своего срока действия:\n",
    "\n",
    "$(1 − 𝑝_1)(1 − 𝑝_2)(1 − 𝑝_3) … (1 − 𝑝_{𝑛−1})$,\n",
    "\n",
    "где $𝑝_k$ -- вероятность досрочного погашения в дату проверки условий $𝑡_k$.\n",
    "\n",
    "Выполните Монте-Карло моделирование и сравните результаты.\n",
    "\n",
    "Ожидаемое решение для пункта (а): $[45.45, 6.29, 4.1,3.07, 2.43, 1.99]$.\n",
    "\n",
    "в) Постройте график зависимости вероятности срабатывания автоотзыва от времени.\n",
    "\n",
    "г) Оцените приведенную стоимость структурного продукта, NVP."
   ]
  },
  {
   "cell_type": "code",
   "execution_count": 217,
   "metadata": {
    "tags": []
   },
   "outputs": [],
   "source": [
    "# analytical solution\n",
    "# using analytical formula\n",
    "\n",
    "# probability of execution\n",
    "def execution_proba(S0, mu, sigma, timeline):\n",
    "    # build covariate matrix\n",
    "    cov_matrix = np.eye(len(timeline))\n",
    "    for i, t1 in enumerate(timeline):\n",
    "        for j, t2 in enumerate(timeline):\n",
    "            if i != j:\n",
    "                cov_matrix[i, j] = min(t1, t2)\n",
    "                cov_matrix[j, i] = cov_matrix[i, j]\n",
    "    return cov_matrix"
   ]
  },
  {
   "cell_type": "code",
   "execution_count": 218,
   "metadata": {
    "tags": []
   },
   "outputs": [
    {
     "data": {
      "text/plain": [
       "array([[1. , 0. , 0. , 0. , 0. , 0. ],\n",
       "       [0. , 1. , 0.1, 0.1, 0.1, 0.1],\n",
       "       [0. , 0.1, 1. , 0.2, 0.2, 0.2],\n",
       "       [0. , 0.1, 0.2, 1. , 0.3, 0.3],\n",
       "       [0. , 0.1, 0.2, 0.3, 1. , 0.4],\n",
       "       [0. , 0.1, 0.2, 0.3, 0.4, 1. ]])"
      ]
     },
     "execution_count": 218,
     "metadata": {},
     "output_type": "execute_result"
    }
   ],
   "source": [
    "timeline = np.linspace(0, 1/2, 6)\n",
    "execution_proba(0, 0, 0, timeline)"
   ]
  },
  {
   "cell_type": "code",
   "execution_count": 214,
   "metadata": {
    "tags": []
   },
   "outputs": [
    {
     "data": {
      "text/plain": [
       "array([0. , 0.1, 0.2, 0.3, 0.4, 0.5])"
      ]
     },
     "execution_count": 214,
     "metadata": {},
     "output_type": "execute_result"
    }
   ],
   "source": [
    "timeline"
   ]
  }
 ],
 "metadata": {
  "colab": {
   "provenance": []
  },
  "kernelspec": {
   "display_name": "Python 3 (ipykernel)",
   "language": "python",
   "name": "python3"
  },
  "language_info": {
   "codemirror_mode": {
    "name": "ipython",
    "version": 3
   },
   "file_extension": ".py",
   "mimetype": "text/x-python",
   "name": "python",
   "nbconvert_exporter": "python",
   "pygments_lexer": "ipython3",
   "version": "3.11.5"
  }
 },
 "nbformat": 4,
 "nbformat_minor": 4
}
